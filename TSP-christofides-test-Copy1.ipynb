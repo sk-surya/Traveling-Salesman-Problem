{
 "cells": [
  {
   "cell_type": "code",
   "execution_count": 1,
   "metadata": {
    "ExecuteTime": {
     "end_time": "2020-10-19T11:14:59.183797Z",
     "start_time": "2020-10-19T11:14:58.125613Z"
    }
   },
   "outputs": [],
   "source": [
    "import numpy as np\n",
    "import networkx as nx\n",
    "import os\n",
    "import itertools  # for product\n",
    "import math\n",
    "import matplotlib.pyplot as plt\n",
    "import random\n",
    "from collections import Counter\n",
    "import time\n",
    "import seaborn as sns\n",
    "from pathlib import Path\n",
    "import glob\n"
   ]
  },
  {
   "cell_type": "code",
   "execution_count": 2,
   "metadata": {
    "ExecuteTime": {
     "end_time": "2020-10-19T11:14:59.630604Z",
     "start_time": "2020-10-19T11:14:59.184745Z"
    }
   },
   "outputs": [],
   "source": [
    "from numba import jit, njit"
   ]
  },
  {
   "cell_type": "code",
   "execution_count": 3,
   "metadata": {
    "ExecuteTime": {
     "end_time": "2020-10-19T11:14:59.635541Z",
     "start_time": "2020-10-19T11:14:59.631551Z"
    }
   },
   "outputs": [],
   "source": [
    "os.chdir(r\"F:\\Portfolio\\TSP\")\n",
    "# from utils import draw_graph"
   ]
  },
  {
   "cell_type": "code",
   "execution_count": 4,
   "metadata": {
    "ExecuteTime": {
     "end_time": "2020-10-19T11:14:59.644517Z",
     "start_time": "2020-10-19T11:14:59.636538Z"
    }
   },
   "outputs": [
    {
     "data": {
      "text/plain": [
       "'F:\\\\Portfolio\\\\TSP'"
      ]
     },
     "execution_count": 4,
     "metadata": {},
     "output_type": "execute_result"
    }
   ],
   "source": [
    "os.getcwd()"
   ]
  },
  {
   "cell_type": "code",
   "execution_count": 5,
   "metadata": {
    "ExecuteTime": {
     "end_time": "2020-10-19T11:14:59.650527Z",
     "start_time": "2020-10-19T11:14:59.645514Z"
    }
   },
   "outputs": [],
   "source": [
    "global sol_file, input_filename\n",
    "\n",
    "def prepare_paths(instance_name):\n",
    "    global sol_file, input_filename\n",
    "    folder = Path(r\"data\")\n",
    "    filename = Path(instance_name + \".tsp\")\n",
    "    input_filename = folder.joinpath(filename)\n",
    "    sol_filename = filename.stem + \".opt.tour\"\n",
    "    sol_folder = folder.joinpath(r\"solution\")\n",
    "    sol_file = Path.cwd().joinpath(sol_folder, sol_filename)"
   ]
  },
  {
   "cell_type": "code",
   "execution_count": 6,
   "metadata": {
    "ExecuteTime": {
     "end_time": "2020-10-19T11:14:59.794148Z",
     "start_time": "2020-10-19T11:14:59.788133Z"
    }
   },
   "outputs": [],
   "source": [
    "def read_opt_sol(sol_file):\n",
    "    if sol_file.is_file():\n",
    "        sol_txt = sol_file.read_text()\n",
    "        sol_lines = sol_txt.split()\n",
    "        sol_lines\n",
    "        idx = 0\n",
    "        line = sol_lines[idx]\n",
    "\n",
    "        while not line.startswith(\"TOUR_SECTION\"):\n",
    "            idx += 1\n",
    "            line = sol_lines[idx]\n",
    "\n",
    "        idx += 1\n",
    "\n",
    "        remaining_line = [x.strip() for x in sol_lines[idx:] if x]\n",
    "        #print(remaining_line)\n",
    "        opt_sol = []\n",
    "        while not sol_lines[idx].startswith(\"-1\"):\n",
    "            line = sol_lines[idx]\n",
    "            opt_sol.append(int(line))\n",
    "            idx += 1\n",
    "\n",
    "        opt_sol.append(opt_sol[0])\n",
    "        #print(opt_sol)\n",
    "        return opt_sol\n",
    "    else:\n",
    "        return []\n"
   ]
  },
  {
   "cell_type": "code",
   "execution_count": 7,
   "metadata": {
    "ExecuteTime": {
     "end_time": "2020-10-19T11:15:00.004553Z",
     "start_time": "2020-10-19T11:14:59.996575Z"
    }
   },
   "outputs": [],
   "source": [
    "def parse_tsplib_file(input_filename):\n",
    "    with open(input_filename) as file:\n",
    "        lines = file.read().splitlines()\n",
    "        lines = [line.strip() for line in lines if line]\n",
    "        assert lines[-1] == 'EOF'\n",
    "        lines = lines[0:len(lines)-1] # cut off EOF line\n",
    "\n",
    "        idx = 0\n",
    "        line = lines[idx]\n",
    "        print(line)\n",
    "        while not line.startswith(\"DIM\"):\n",
    "            idx += 1\n",
    "            line = lines[idx]\n",
    "\n",
    "        num_city = int(lines[idx].split(\": \")[1])\n",
    "        #print(f\"Number of cities : {num_city}\")\n",
    "        #print(\"Number of cities : \", num_city)\n",
    "\n",
    "        while not line.startswith(\"NODE_COORD_SECTION\"):\n",
    "            idx += 1\n",
    "            line = lines[idx]\n",
    "\n",
    "        idx += 1\n",
    "        pos_dict = {}\n",
    "        for i in range(idx, len(lines)):\n",
    "            line = lines[idx]\n",
    "            line_arr = line.split(\" \")\n",
    "            city, x_coord, y_coord = int(line_arr[0]), float(line_arr[1]), float(line_arr[2])\n",
    "            pos_dict[city] = (x_coord, y_coord)\n",
    "            idx += 1\n",
    "\n",
    "        assert len(pos_dict) == num_city\n",
    "        #print(pos_dict)\n",
    "        return pos_dict"
   ]
  },
  {
   "cell_type": "code",
   "execution_count": 8,
   "metadata": {
    "ExecuteTime": {
     "end_time": "2020-10-19T11:15:00.305748Z",
     "start_time": "2020-10-19T11:15:00.300762Z"
    }
   },
   "outputs": [],
   "source": [
    "def compute_distances(pos_dict):\n",
    "    nodes = pos_dict.keys()\n",
    "    dist_dict = {}\n",
    "    for node1, node2 in itertools.product(nodes, nodes):\n",
    "        (x1, y1), (x2, y2) = pos_dict[node1], pos_dict[node2]\n",
    "        dist = math.sqrt( \n",
    "                    (x2 - x1)**2 + (y2 - y1)**2 \n",
    "        )\n",
    "        dist_dict[(node1, node2)] = dist\n",
    "    return dist_dict"
   ]
  },
  {
   "cell_type": "code",
   "execution_count": 9,
   "metadata": {
    "ExecuteTime": {
     "end_time": "2020-10-19T11:15:00.623898Z",
     "start_time": "2020-10-19T11:15:00.620906Z"
    }
   },
   "outputs": [],
   "source": [
    "t1 = time.time()"
   ]
  },
  {
   "cell_type": "code",
   "execution_count": 10,
   "metadata": {
    "ExecuteTime": {
     "end_time": "2020-10-19T11:15:00.947034Z",
     "start_time": "2020-10-19T11:15:00.942047Z"
    }
   },
   "outputs": [],
   "source": [
    "# build a complete graph\n",
    "def build_input_graph(pos_dict, distances):\n",
    "    G = nx.Graph()\n",
    "    for node in pos_dict.keys():\n",
    "        G.add_node(node)\n",
    "    for node_pair in itertools.product(pos_dict.keys(), pos_dict.keys()):\n",
    "        node1, node2 = node_pair[0], node_pair[1]\n",
    "        if node1 != node2:\n",
    "            G.add_edge(node1, node2)\n",
    "            G.edges[node_pair]['distance'] = distances[node_pair]\n",
    "    print(\"Base Graph built.\")\n",
    "    return G\n"
   ]
  },
  {
   "cell_type": "code",
   "execution_count": 11,
   "metadata": {
    "ExecuteTime": {
     "end_time": "2020-10-19T11:15:01.929409Z",
     "start_time": "2020-10-19T11:15:01.918437Z"
    }
   },
   "outputs": [],
   "source": [
    "def invert_weights(G, weight_str):\n",
    "    for edge in G.edges:\n",
    "        G.edges[edge][weight_str] = 0 - G.edges[edge][weight_str]\n",
    "        \n",
    "    new_sign_is_positive =  G.edges[edge][weight_str]  > 0\n",
    "    \n",
    "    #if new_sign_is_positive:\n",
    "    #    new_sign = \"+ve\"\n",
    "    #    old_sign = \"-ve\"\n",
    "    #else:\n",
    "    #    new_sign = \"-ve\"\n",
    "    #    old_sign = \"+ve\"\n",
    "    #print (f\"Weights sign changed to {old_sign} to {new_sign}\")\n",
    "    \n",
    "def min_weight_matching(G, weight='distance'):\n",
    "    invert_weights(G, \"distance\")\n",
    "    min_match_G = nx.max_weight_matching(G, maxcardinality=True, weight=weight)\n",
    "    invert_weights(G, \"distance\")\n",
    "    return min_match_G    \n",
    "\n",
    "def find_shortest_path_candidate(H, current_vertex, target, is_global_unvisited):\n",
    "    #print(\"choosing random\")\n",
    "    if not is_global_unvisited:   # if all global nodes are visited\n",
    "        #print(\"Global is visited.\")\n",
    "        candidates = list(H.neighbors(current_vertex))\n",
    "    else:\n",
    "        candidates = list(set(list(H.neighbors(current_vertex))) - set([target]))\n",
    "        #print(\"candidates\", candidates)\n",
    "    return random.choice(candidates)\n",
    "\"\"\"    current_best_length = math.inf\n",
    "    current_best_node = None\n",
    "    for v in candidates:\n",
    "        length = nx.shortest_path_length(G, source=v, target=target, weight='distance', method='dijkstra')\n",
    "        #print(\"shortest_path:\", v, length)\n",
    "        if length < current_best_length:\n",
    "            current_best_length = length\n",
    "            current_best_node = v\"\"\"\n",
    "    #return current_best_node\n",
    "\n",
    "def find_euler_tour_mine_not_working(H):\n",
    "    print(\"Begin Euler Tour.\")\n",
    "    node_list = list(H.nodes)\n",
    "    tour_start = random.choice(node_list)\n",
    "    \n",
    "    visited = set()\n",
    "    visited.add(tour_start)\n",
    "    all_s = set(H.nodes)\n",
    "    current_vertex = tour_start \n",
    "    insertion = [tour_start]\n",
    "    while len(visited) < len(H.nodes):\n",
    "        unvisited = set(H.neighbors(current_vertex)) - visited\n",
    "        #print(\"current vertex: \", current_vertex, \";  \", \"unvisited: \", unvisited)\n",
    "        #print(\"global unvisited: \", all_s - visited)\n",
    "        if len(unvisited) > 0:\n",
    "            who = random.choice(list(unvisited))\n",
    "            visited.add(who)\n",
    "            insertion.append(who)\n",
    "            #print(f\"Added {who}\")\n",
    "            current_vertex = who\n",
    "        else:\n",
    "            is_global_unvisited = len(all_s - visited) > 0\n",
    "            who = find_shortest_path_candidate(H, current_vertex, target=tour_start, is_global_unvisited=is_global_unvisited)\n",
    "            visited.add(who)\n",
    "            insertion.append(who)\n",
    "            current_vertex = who\n",
    "            #print(f\"Added {who}\")\n",
    "    insertion.append(tour_start)\n",
    "    #print(insertion)\n",
    "    #len(insertion)\n",
    "    print(\"End Euler Tour.\")\n",
    "    return insertion    "
   ]
  },
  {
   "cell_type": "code",
   "execution_count": 12,
   "metadata": {
    "ExecuteTime": {
     "end_time": "2020-10-19T11:15:02.480970Z",
     "start_time": "2020-10-19T11:15:02.476944Z"
    }
   },
   "outputs": [],
   "source": [
    "def find_euler_path(H, V):\n",
    "    # procedure FindEulerPath(V)\n",
    "    #    1. iterate through all the edges outgoing from vertex V;\n",
    "    #          remove this edge from the graph,\n",
    "    #          and call FindEulerPath from the second end of this edge;\n",
    "    #    2. add vertex V to the answer.\n",
    "    return nx.eulerian_circuit(G, source=V)"
   ]
  },
  {
   "cell_type": "code",
   "execution_count": 13,
   "metadata": {
    "ExecuteTime": {
     "end_time": "2020-10-19T11:15:02.755201Z",
     "start_time": "2020-10-19T11:15:02.748254Z"
    }
   },
   "outputs": [],
   "source": [
    "def cut_short_tour(ss):\n",
    "    # these vertices occur more than once in the path\n",
    "    # (vertex, n times)\n",
    "    # to remove them n-1 times\n",
    "    tour_start = ss[-1]\n",
    "    cutting_list = [(key, val) for key, val in Counter(ss).items() if val > 1 and key != tour_start]\n",
    "    #print(cutting_list)\n",
    "    for node, frequency in cutting_list:\n",
    "        for _ in range(frequency-1):\n",
    "            ss.remove(node)\n",
    "    #print(ss)\n",
    "    assert(len(ss) == len(G)+1), \"Not a tour.\"\n",
    "\n",
    "    # create edges from vertices in the path\n",
    "    v_path = ss[:-1]\n",
    "    path = []\n",
    "    for i in range(len(v_path)):\n",
    "        path.append((ss[i], ss[i+1]))\n",
    "\n",
    "    tour = nx.Graph()\n",
    "    tour.add_edges_from(path)\n",
    "    for edge in tour.edges:\n",
    "        tour.edges[edge]['distance'] = G.edges[edge]['distance']\n",
    "\n",
    "    cost = tour.size(weight='distance')\n",
    "    # print(\"Tour cut short.\")\n",
    "    return cost"
   ]
  },
  {
   "cell_type": "code",
   "execution_count": 14,
   "metadata": {
    "ExecuteTime": {
     "end_time": "2020-10-19T11:15:02.902841Z",
     "start_time": "2020-10-19T11:15:02.892867Z"
    }
   },
   "outputs": [],
   "source": [
    "def approx_tsp(G, tour_start=1):\n",
    "    # Step 1 Minimum weight spanning tree T\n",
    "    mst = nx.minimum_spanning_tree(G, weight='distance')\n",
    "    # mst.size(weight='distance')\n",
    "\n",
    "    # Step 2 Minimum matching M for the odd-degree vertices in T\n",
    "    degrees = dict(mst.degree)\n",
    "    O = [key for key, val in degrees.items() if val % 2 != 0]\n",
    "    G_sub = G.subgraph(O).copy()\n",
    "    min_matching_set = min_weight_matching(G_sub)\n",
    "    #min_matching_set\n",
    "    assert nx.is_perfect_matching(G_sub, min_matching_set)\n",
    "\n",
    "    # Step 3 Add M to T\n",
    "    # combine edges from mst and min_matching_set\n",
    "    H = nx.MultiGraph(mst, weight='distance')\n",
    "    for edge in min_matching_set:\n",
    "        H.add_edge(edge[0], edge[1])\n",
    "    \n",
    "    odd_v = [(key, val) for key, val in H.degree if val % 2 != 0]\n",
    "    assert len(odd_v) == 0\n",
    "    # print(nx.is_eulerian(H))\n",
    "    \n",
    "    # Step 4 Find an Euler tour\n",
    "    #insertion = list(find_euler_path(H, 1))\n",
    "    tour_start = random.choice(list(H.nodes))\n",
    "    euler_circuit = nx.eulerian_circuit(H, tour_start)\n",
    "    inserted = set()\n",
    "    insertion = []\n",
    "    for edge in euler_circuit:\n",
    "        if not edge[0] in inserted:\n",
    "            insertion.append(edge[0])\n",
    "            inserted.add(edge[0])\n",
    "        if not edge[1] in inserted:\n",
    "            insertion.append(edge[1])\n",
    "            inserted.add(edge[1])      \n",
    "    \n",
    "    insertion.append(tour_start)\n",
    "    # print(insertion)\n",
    "    \n",
    "    ss = insertion.copy()\n",
    "\n",
    "    # Step 5 Cut short Euler tour\n",
    "    cost = cut_short_tour(ss)\n",
    "    #print(f\"Cost of tour = {cost}\")\n",
    "   \n",
    "    # assert approx_ratio > 1\n",
    "    #print(approx_ratio)\n",
    "    return cost"
   ]
  },
  {
   "cell_type": "code",
   "execution_count": 15,
   "metadata": {
    "ExecuteTime": {
     "end_time": "2020-10-19T11:15:03.224982Z",
     "start_time": "2020-10-19T11:15:03.117267Z"
    }
   },
   "outputs": [
    {
     "name": "stdout",
     "output_type": "stream",
     "text": [
      "data\\kroA200.tsp\n",
      "NAME: kroA200\n",
      "Base Graph built.\n"
     ]
    }
   ],
   "source": [
    "instance_name = \"kroA200\"\n",
    "prepare_paths(instance_name)\n",
    "print(input_filename)\n",
    "pos_dict = parse_tsplib_file(input_filename)\n",
    "distances = compute_distances(pos_dict)\n",
    "G = build_input_graph(pos_dict, distances)\n",
    "#nx.get_edge_attributes(G, 'distance')\n"
   ]
  },
  {
   "cell_type": "code",
   "execution_count": 18,
   "metadata": {
    "ExecuteTime": {
     "end_time": "2020-10-19T11:17:00.746881Z",
     "start_time": "2020-10-19T11:15:29.165604Z"
    }
   },
   "outputs": [
    {
     "name": "stdout",
     "output_type": "stream",
     "text": [
      "Optimal Solution not found.\n",
      "100 iterations.\n",
      "Cost:\t\t min=33239.19799293647\t\t max = 33984.03335911517;\t mean = 33657.9669488523\n",
      "Approx ratio:\t min=-0.0\t\t max = -0.0;\t mean = -0.0\n",
      "100 Iterations took 91.47456383705139 seconds.\n"
     ]
    },
    {
     "data": {
      "image/png": "[encoded data removed]",
      "text/plain": [
       "<Figure size 432x288 with 1 Axes>"
      ]
     },
     "metadata": {
      "needs_background": "light"
     },
     "output_type": "display_data"
    }
   ],
   "source": [
    "num_iter = 100\n",
    "cost_arr = np.empty(num_iter)\n",
    "time_arr = np.empty(num_iter)\n",
    "start = time.time()\n",
    "for i in range(num_iter):\n",
    "    t2 = time.time()\n",
    "    cost_arr[i] = approx_tsp(G)\n",
    "    time_arr[i] = time.time()-t2 \n",
    "min_cost = min(cost_arr)\n",
    "max_cost = max(cost_arr)\n",
    "mean_cost = np.mean(cost_arr)\n",
    "\n",
    "min_time = min(time_arr)\n",
    "max_time = max(time_arr)\n",
    "mean_time = np.mean(time_arr)\n",
    "\n",
    "end = time.time()\n",
    "opt_sol = read_opt_sol(sol_file)\n",
    "if len(opt_sol) > 0:\n",
    "    opt_cost = cut_short_tour(opt_sol)\n",
    "    print(f\"Optimal solution from file: {opt_cost}\\n\")\n",
    "else:\n",
    "    opt_cost = -math.inf\n",
    "    print(\"Optimal Solution not found.\")\n",
    "\n",
    "print(f\"{num_iter} iterations.\")\n",
    "print(f\"Cost:\\t\\t min={min_cost}\\t\\t max = {max_cost};\\t mean = {mean_cost}\")\n",
    "print(f\"Approx ratio:\\t min={min_cost/opt_cost}\\t\\t max = {max_cost/opt_cost};\\t mean = {mean_cost/opt_cost}\")\n",
    "#print(f\"Time:     min={min_time}\\t max = {max_time};\\t mean = {mean_time}\\n\")\n",
    "\n",
    "print(f\"{num_iter} Iterations took {end-start} seconds.\")\n",
    "\n",
    "sns.set_style()\n",
    "ax = sns.distplot(cost_arr)\n",
    "plt.show()\n",
    "#print(sns.distplot(time_arr))"
   ]
  },
  {
   "cell_type": "code",
   "execution_count": 17,
   "metadata": {
    "ExecuteTime": {
     "end_time": "2020-10-19T11:12:57.872868Z",
     "start_time": "2020-10-19T11:12:57.868882Z"
    }
   },
   "outputs": [
    {
     "name": "stdout",
     "output_type": "stream",
     "text": [
      "Program took 5.436467170715332 seconds.\n"
     ]
    }
   ],
   "source": [
    "t3 = time.time()\n",
    "print(f\"Program took {t3 - t1} seconds.\")"
   ]
  },
  {
   "cell_type": "code",
   "execution_count": 19,
   "metadata": {
    "ExecuteTime": {
     "end_time": "2020-10-19T11:12:59.069723Z",
     "start_time": "2020-10-19T11:12:59.052714Z"
    }
   },
   "outputs": [],
   "source": [
    "V_len = len(G.nodes)\n",
    "d = np.empty((V_len, V_len), dtype=float)\n",
    "for i in range(V_len):\n",
    "    for j in range(V_len):\n",
    "        d[i,j] = distances[(i+1, j+1)]"
   ]
  },
  {
   "cell_type": "code",
   "execution_count": 3,
   "metadata": {
    "ExecuteTime": {
     "end_time": "2020-10-19T11:14:43.554566Z",
     "start_time": "2020-10-19T11:14:43.549575Z"
    }
   },
   "outputs": [
    {
     "ename": "SyntaxError",
     "evalue": "invalid syntax (<ipython-input-3-52d8a813b045>, line 1)",
     "output_type": "error",
     "traceback": [
      "\u001b[1;36m  File \u001b[1;32m\"<ipython-input-3-52d8a813b045>\"\u001b[1;36m, line \u001b[1;32m1\u001b[0m\n\u001b[1;33m    def shuffler(d, permutation = list(range(200)):\u001b[0m\n\u001b[1;37m                                                  ^\u001b[0m\n\u001b[1;31mSyntaxError\u001b[0m\u001b[1;31m:\u001b[0m invalid syntax\n"
     ]
    }
   ],
   "source": [
    "\n",
    "def shuffler(d, permutation = list(range(200)):\n",
    "    counter = 0\n",
    "    best_cost = math.inf\n",
    "    for i in range(int(1e4)):\n",
    "        counter += 1\n",
    "        np.random.shuffle(permutation)\n",
    "        cost = d[(permutation[0], permutation[-1])]\n",
    "        for x in range(200-1):\n",
    "            cost += d[(permutation[x], permutation[x+1])]\n",
    "        if cost < best_cost:\n",
    "            best_cost = cost\n",
    "    return counter    "
   ]
  },
  {
   "cell_type": "code",
   "execution_count": null,
   "metadata": {
    "ExecuteTime": {
     "end_time": "2020-10-19T11:01:58.757329Z",
     "start_time": "2020-10-19T11:01:56.035Z"
    }
   },
   "outputs": [],
   "source": [
    "#import tsp"
   ]
  },
  {
   "cell_type": "code",
   "execution_count": null,
   "metadata": {
    "ExecuteTime": {
     "end_time": "2020-10-19T11:01:58.757329Z",
     "start_time": "2020-10-19T11:01:56.068Z"
    }
   },
   "outputs": [],
   "source": [
    "#t = tsp.tsp(list(pos_dict.values()))\n",
    "#print(t)"
   ]
  },
  {
   "cell_type": "code",
   "execution_count": null,
   "metadata": {
    "ExecuteTime": {
     "end_time": "2020-10-19T11:01:58.758326Z",
     "start_time": "2020-10-19T11:01:56.101Z"
    }
   },
   "outputs": [],
   "source": [
    "ss2 = list(np.add([0, 15, 11, 12, 13, 5, 6, 9, 8, 10, 4, 14, 7, 3, 1, 2], 1))\n",
    "ss2.append(1)\n",
    "ss2"
   ]
  },
  {
   "cell_type": "code",
   "execution_count": null,
   "metadata": {
    "ExecuteTime": {
     "end_time": "2020-10-19T11:01:58.759323Z",
     "start_time": "2020-10-19T11:01:56.133Z"
    }
   },
   "outputs": [],
   "source": [
    "74.82608415730981/73.98761804517501"
   ]
  },
  {
   "cell_type": "code",
   "execution_count": null,
   "metadata": {
    "ExecuteTime": {
     "end_time": "2020-10-19T05:39:11.178883Z",
     "start_time": "2020-10-19T05:39:11.173900Z"
    }
   },
   "outputs": [],
   "source": []
  },
  {
   "cell_type": "code",
   "execution_count": null,
   "metadata": {},
   "outputs": [],
   "source": []
  },
  {
   "cell_type": "code",
   "execution_count": null,
   "metadata": {},
   "outputs": [],
   "source": []
  }
 ],
 "metadata": {
  "kernelspec": {
   "display_name": "Python 3",
   "language": "python",
   "name": "python3"
  },
  "language_info": {
   "codemirror_mode": {
    "name": "ipython",
    "version": 3
   },
   "file_extension": ".py",
   "mimetype": "text/x-python",
   "name": "python",
   "nbconvert_exporter": "python",
   "pygments_lexer": "ipython3",
   "version": "3.7.6"
  }
 },
 "nbformat": 4,
 "nbformat_minor": 4
}
